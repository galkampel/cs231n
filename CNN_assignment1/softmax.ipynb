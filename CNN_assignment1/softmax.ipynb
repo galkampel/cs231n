{
 "cells": [
  {
   "cell_type": "markdown",
   "metadata": {},
   "source": [
    "# Softmax exercise\n",
    "\n",
    "*Complete and hand in this completed worksheet (including its outputs and any supporting code outside of the worksheet) with your assignment submission. For more details see the [assignments page](http://vision.stanford.edu/teaching/cs231n/assignments.html) on the course website.*\n",
    "\n",
    "This exercise is analogous to the SVM exercise. You will:\n",
    "\n",
    "- implement a fully-vectorized **loss function** for the Softmax classifier\n",
    "- implement the fully-vectorized expression for its **analytic gradient**\n",
    "- **check your implementation** with numerical gradient\n",
    "- use a validation set to **tune the learning rate and regularization** strength\n",
    "- **optimize** the loss function with **SGD**\n",
    "- **visualize** the final learned weights\n"
   ]
  },
  {
   "cell_type": "code",
   "execution_count": 1,
   "metadata": {
    "collapsed": true
   },
   "outputs": [],
   "source": [
    "import random\n",
    "import numpy as np\n",
    "from cs231n.data_utils import load_CIFAR10\n",
    "import matplotlib.pyplot as plt\n",
    "\n",
    "from __future__ import print_function\n",
    "\n",
    "%matplotlib inline\n",
    "plt.rcParams['figure.figsize'] = (10.0, 8.0) # set default size of plots\n",
    "plt.rcParams['image.interpolation'] = 'nearest'\n",
    "plt.rcParams['image.cmap'] = 'gray'\n",
    "\n",
    "# for auto-reloading extenrnal modules\n",
    "# see http://stackoverflow.com/questions/1907993/autoreload-of-modules-in-ipython\n",
    "%load_ext autoreload\n",
    "%autoreload 2"
   ]
  },
  {
   "cell_type": "code",
   "execution_count": 2,
   "metadata": {},
   "outputs": [
    {
     "name": "stdout",
     "output_type": "stream",
     "text": [
      "Train data shape:  (49000, 3073)\n",
      "Train labels shape:  (49000,)\n",
      "Validation data shape:  (1000, 3073)\n",
      "Validation labels shape:  (1000,)\n",
      "Test data shape:  (1000, 3073)\n",
      "Test labels shape:  (1000,)\n",
      "dev data shape:  (500, 3073)\n",
      "dev labels shape:  (500,)\n"
     ]
    }
   ],
   "source": [
    "def get_CIFAR10_data(num_training=49000, num_validation=1000, num_test=1000, num_dev=500):\n",
    "    \"\"\"\n",
    "    Load the CIFAR-10 dataset from disk and perform preprocessing to prepare\n",
    "    it for the linear classifier. These are the same steps as we used for the\n",
    "    SVM, but condensed to a single function.  \n",
    "    \"\"\"\n",
    "    # Load the raw CIFAR-10 data\n",
    "    cifar10_dir = 'cs231n/datasets/cifar-10-batches-py'\n",
    "    X_train, y_train, X_test, y_test = load_CIFAR10(cifar10_dir)\n",
    "    \n",
    "    # subsample the data\n",
    "    mask = list(range(num_training, num_training + num_validation))\n",
    "    X_val = X_train[mask]\n",
    "    y_val = y_train[mask]\n",
    "    mask = list(range(num_training))\n",
    "    X_train = X_train[mask]\n",
    "    y_train = y_train[mask]\n",
    "    mask = list(range(num_test))\n",
    "    X_test = X_test[mask]\n",
    "    y_test = y_test[mask]\n",
    "    mask = np.random.choice(num_training, num_dev, replace=False)\n",
    "    X_dev = X_train[mask]\n",
    "    y_dev = y_train[mask]\n",
    "    \n",
    "    # Preprocessing: reshape the image data into rows\n",
    "    X_train = np.reshape(X_train, (X_train.shape[0], -1))\n",
    "    X_val = np.reshape(X_val, (X_val.shape[0], -1))\n",
    "    X_test = np.reshape(X_test, (X_test.shape[0], -1))\n",
    "    X_dev = np.reshape(X_dev, (X_dev.shape[0], -1))\n",
    "    \n",
    "    # Normalize the data: subtract the mean image\n",
    "    mean_image = np.mean(X_train, axis = 0)\n",
    "    X_train -= mean_image\n",
    "    X_val -= mean_image\n",
    "    X_test -= mean_image\n",
    "    X_dev -= mean_image\n",
    "    \n",
    "    # add bias dimension and transform into columns\n",
    "    X_train = np.hstack([X_train, np.ones((X_train.shape[0], 1))])\n",
    "    X_val = np.hstack([X_val, np.ones((X_val.shape[0], 1))])\n",
    "    X_test = np.hstack([X_test, np.ones((X_test.shape[0], 1))])\n",
    "    X_dev = np.hstack([X_dev, np.ones((X_dev.shape[0], 1))])\n",
    "    \n",
    "    return X_train, y_train, X_val, y_val, X_test, y_test, X_dev, y_dev\n",
    "\n",
    "\n",
    "# Invoke the above function to get our data.\n",
    "X_train, y_train, X_val, y_val, X_test, y_test, X_dev, y_dev = get_CIFAR10_data()\n",
    "print('Train data shape: ', X_train.shape)\n",
    "print('Train labels shape: ', y_train.shape)\n",
    "print('Validation data shape: ', X_val.shape)\n",
    "print('Validation labels shape: ', y_val.shape)\n",
    "print('Test data shape: ', X_test.shape)\n",
    "print('Test labels shape: ', y_test.shape)\n",
    "print('dev data shape: ', X_dev.shape)\n",
    "print('dev labels shape: ', y_dev.shape)"
   ]
  },
  {
   "cell_type": "markdown",
   "metadata": {},
   "source": [
    "## Softmax Classifier\n",
    "\n",
    "Your code for this section will all be written inside **cs231n/classifiers/softmax.py**. \n"
   ]
  },
  {
   "cell_type": "code",
   "execution_count": 19,
   "metadata": {},
   "outputs": [
    {
     "name": "stdout",
     "output_type": "stream",
     "text": [
      "loss: 2.344510\n",
      "sanity check: 2.302585\n"
     ]
    }
   ],
   "source": [
    "# First implement the naive softmax loss function with nested loops.\n",
    "# Open the file cs231n/classifiers/softmax.py and implement the\n",
    "# softmax_loss_naive function.\n",
    "\n",
    "from cs231n.classifiers.softmax import softmax_loss_naive\n",
    "import time\n",
    "\n",
    "# Generate a random softmax weight matrix and use it to compute the loss.\n",
    "W = np.random.randn(3073, 10) * 0.0001\n",
    "loss, grad = softmax_loss_naive(W, X_dev, y_dev, 0.0)\n",
    "\n",
    "# As a rough sanity check, our loss should be something close to -log(0.1).\n",
    "print('loss: %f' % loss)\n",
    "print('sanity check: %f' % (-np.log(0.1)))"
   ]
  },
  {
   "cell_type": "markdown",
   "metadata": {},
   "source": [
    "## Inline Question 1:\n",
    "Why do we expect our loss to be close to -log(0.1)? Explain briefly.**\n",
    "\n",
    "**Your answer:** *If there is no prior,then it's equally likely to get each of the classes 1/c (maximum entropy)*\n"
   ]
  },
  {
   "cell_type": "code",
   "execution_count": 24,
   "metadata": {},
   "outputs": [
    {
     "name": "stdout",
     "output_type": "stream",
     "text": [
      "numerical: 1.382504 analytic: 1.382504, relative error: 4.211932e-09\n",
      "numerical: 4.749501 analytic: 4.749501, relative error: 1.572743e-08\n",
      "numerical: 2.585465 analytic: 2.585465, relative error: 2.972823e-08\n",
      "numerical: 2.121124 analytic: 2.121124, relative error: 3.816435e-09\n",
      "numerical: 1.196659 analytic: 1.196659, relative error: 6.162730e-08\n",
      "numerical: -0.397242 analytic: -0.397242, relative error: 7.595134e-08\n",
      "numerical: -1.286914 analytic: -1.286914, relative error: 2.228056e-08\n",
      "numerical: -0.028943 analytic: -0.028943, relative error: 6.707827e-07\n",
      "numerical: 0.345311 analytic: 0.345311, relative error: 1.168302e-07\n",
      "numerical: 1.892559 analytic: 1.892559, relative error: 1.108771e-08\n",
      "numerical: 0.792862 analytic: 0.792862, relative error: 8.169181e-08\n",
      "numerical: 0.222706 analytic: 0.222706, relative error: 2.528270e-07\n",
      "numerical: 1.384858 analytic: 1.384858, relative error: 2.696444e-08\n",
      "numerical: -0.112231 analytic: -0.112231, relative error: 1.779750e-07\n",
      "numerical: 0.519013 analytic: 0.519013, relative error: 7.331501e-08\n",
      "numerical: 0.170827 analytic: 0.170827, relative error: 1.359646e-07\n",
      "numerical: -0.075584 analytic: -0.075584, relative error: 1.305532e-06\n",
      "numerical: 2.349921 analytic: 2.349921, relative error: 3.098810e-09\n",
      "numerical: 1.004414 analytic: 1.004414, relative error: 3.200252e-08\n",
      "numerical: 0.413264 analytic: 0.413264, relative error: 6.111343e-08\n"
     ]
    }
   ],
   "source": [
    "# Complete the implementation of softmax_loss_naive and implement a (naive)\n",
    "# version of the gradient that uses nested loops.\n",
    "loss, grad = softmax_loss_naive(W, X_dev, y_dev, 0.0)\n",
    "\n",
    "# As we did for the SVM, use numeric gradient checking as a debugging tool.\n",
    "# The numeric gradient should be close to the analytic gradient.\n",
    "from cs231n.gradient_check import grad_check_sparse\n",
    "f = lambda w: softmax_loss_naive(w, X_dev, y_dev, 0.0)[0]\n",
    "grad_numerical = grad_check_sparse(f, W, grad, 10)\n",
    "\n",
    "# similar to SVM case, do another gradient check with regularization\n",
    "loss, grad = softmax_loss_naive(W, X_dev, y_dev, 5e1)\n",
    "f = lambda w: softmax_loss_naive(w, X_dev, y_dev, 5e1)[0]\n",
    "grad_numerical = grad_check_sparse(f, W, grad, 10)"
   ]
  },
  {
   "cell_type": "code",
   "execution_count": 29,
   "metadata": {},
   "outputs": [
    {
     "name": "stdout",
     "output_type": "stream",
     "text": [
      "naive loss: 2.344510e+00 computed in 0.089635s\n",
      "vectorized loss: 2.344510e+00 computed in 0.002418s\n",
      "Loss difference: 0.000000\n",
      "Gradient difference: 0.000000\n"
     ]
    }
   ],
   "source": [
    "# Now that we have a naive implementation of the softmax loss function and its gradient,\n",
    "# implement a vectorized version in softmax_loss_vectorized.\n",
    "# The two versions should compute the same results, but the vectorized version should be\n",
    "# much faster.\n",
    "tic = time.time()\n",
    "loss_naive, grad_naive = softmax_loss_naive(W, X_dev, y_dev, 0.000005)\n",
    "toc = time.time()\n",
    "print('naive loss: %e computed in %fs' % (loss_naive, toc - tic))\n",
    "\n",
    "from cs231n.classifiers.softmax import softmax_loss_vectorized\n",
    "tic = time.time()\n",
    "loss_vectorized, grad_vectorized = softmax_loss_vectorized(W, X_dev, y_dev, 0.000005)\n",
    "toc = time.time()\n",
    "print('vectorized loss: %e computed in %fs' % (loss_vectorized, toc - tic))\n",
    "\n",
    "# As we did for the SVM, we use the Frobenius norm to compare the two versions\n",
    "# of the gradient.\n",
    "grad_difference = np.linalg.norm(grad_naive - grad_vectorized, ord='fro')\n",
    "print('Loss difference: %f' % np.abs(loss_naive - loss_vectorized))\n",
    "print('Gradient difference: %f' % grad_difference)"
   ]
  },
  {
   "cell_type": "code",
   "execution_count": 34,
   "metadata": {},
   "outputs": [
    {
     "name": "stdout",
     "output_type": "stream",
     "text": [
      "iteration 0 / 3000: loss 783.144719\n",
      "iteration 100 / 3000: loss 286.942997\n",
      "iteration 200 / 3000: loss 106.445592\n",
      "iteration 300 / 3000: loss 40.179691\n",
      "iteration 400 / 3000: loss 16.098538\n",
      "iteration 500 / 3000: loss 7.180462\n",
      "iteration 600 / 3000: loss 3.928084\n",
      "iteration 700 / 3000: loss 2.784333\n",
      "iteration 800 / 3000: loss 2.363395\n",
      "iteration 900 / 3000: loss 2.127340\n",
      "iteration 1000 / 3000: loss 2.098170\n",
      "iteration 1100 / 3000: loss 2.091633\n",
      "iteration 1200 / 3000: loss 2.076037\n",
      "iteration 1300 / 3000: loss 2.015720\n",
      "iteration 1400 / 3000: loss 2.081569\n",
      "iteration 1500 / 3000: loss 2.029978\n",
      "iteration 1600 / 3000: loss 2.123456\n",
      "iteration 1700 / 3000: loss 2.095952\n",
      "iteration 1800 / 3000: loss 2.075072\n",
      "iteration 1900 / 3000: loss 2.128203\n",
      "iteration 2000 / 3000: loss 2.044347\n",
      "iteration 2100 / 3000: loss 2.041839\n",
      "iteration 2200 / 3000: loss 2.059980\n",
      "iteration 2300 / 3000: loss 2.072019\n",
      "iteration 2400 / 3000: loss 2.116250\n",
      "iteration 2500 / 3000: loss 2.080930\n",
      "iteration 2600 / 3000: loss 2.047592\n",
      "iteration 2700 / 3000: loss 2.077438\n",
      "iteration 2800 / 3000: loss 2.065234\n",
      "iteration 2900 / 3000: loss 2.035408\n",
      "iteration 0 / 3000: loss 1579.852151\n",
      "iteration 100 / 3000: loss 212.720713\n",
      "iteration 200 / 3000: loss 30.296929\n",
      "iteration 300 / 3000: loss 5.895014\n",
      "iteration 400 / 3000: loss 2.672160\n",
      "iteration 500 / 3000: loss 2.237314\n",
      "iteration 600 / 3000: loss 2.137356\n",
      "iteration 700 / 3000: loss 2.158080\n",
      "iteration 800 / 3000: loss 2.140908\n",
      "iteration 900 / 3000: loss 2.162029\n",
      "iteration 1000 / 3000: loss 2.174601\n",
      "iteration 1100 / 3000: loss 2.124414\n",
      "iteration 1200 / 3000: loss 2.103368\n",
      "iteration 1300 / 3000: loss 2.128281\n",
      "iteration 1400 / 3000: loss 2.110903\n",
      "iteration 1500 / 3000: loss 2.150080\n",
      "iteration 1600 / 3000: loss 2.132840\n",
      "iteration 1700 / 3000: loss 2.167824\n",
      "iteration 1800 / 3000: loss 2.155212\n",
      "iteration 1900 / 3000: loss 2.155770\n",
      "iteration 2000 / 3000: loss 2.085162\n",
      "iteration 2100 / 3000: loss 2.150541\n",
      "iteration 2200 / 3000: loss 2.123749\n",
      "iteration 2300 / 3000: loss 2.118641\n",
      "iteration 2400 / 3000: loss 2.098821\n",
      "iteration 2500 / 3000: loss 2.125253\n",
      "iteration 2600 / 3000: loss 2.137730\n",
      "iteration 2700 / 3000: loss 2.133770\n",
      "iteration 2800 / 3000: loss 2.160119\n",
      "iteration 2900 / 3000: loss 2.126775\n",
      "iteration 0 / 3000: loss 775.327113\n",
      "iteration 100 / 3000: loss 6.945768\n",
      "iteration 200 / 3000: loss 2.102772\n",
      "iteration 300 / 3000: loss 2.087958\n",
      "iteration 400 / 3000: loss 2.081922\n",
      "iteration 500 / 3000: loss 2.087078\n",
      "iteration 600 / 3000: loss 2.081737\n",
      "iteration 700 / 3000: loss 2.069786\n",
      "iteration 800 / 3000: loss 2.070956\n",
      "iteration 900 / 3000: loss 2.101838\n",
      "iteration 1000 / 3000: loss 2.094578\n",
      "iteration 1100 / 3000: loss 2.111860\n",
      "iteration 1200 / 3000: loss 2.096352\n",
      "iteration 1300 / 3000: loss 2.077366\n",
      "iteration 1400 / 3000: loss 2.066948\n",
      "iteration 1500 / 3000: loss 2.043108\n",
      "iteration 1600 / 3000: loss 2.099199\n",
      "iteration 1700 / 3000: loss 2.123625\n",
      "iteration 1800 / 3000: loss 2.123477\n",
      "iteration 1900 / 3000: loss 2.126486\n",
      "iteration 2000 / 3000: loss 2.101272\n",
      "iteration 2100 / 3000: loss 2.091887\n",
      "iteration 2200 / 3000: loss 2.111115\n",
      "iteration 2300 / 3000: loss 2.023289\n",
      "iteration 2400 / 3000: loss 2.092279\n",
      "iteration 2500 / 3000: loss 2.038969\n",
      "iteration 2600 / 3000: loss 2.192205\n",
      "iteration 2700 / 3000: loss 2.174120\n",
      "iteration 2800 / 3000: loss 2.102374\n",
      "iteration 2900 / 3000: loss 2.097567\n",
      "iteration 0 / 3000: loss 1550.680613\n",
      "iteration 100 / 3000: loss 2.233057\n",
      "iteration 200 / 3000: loss 2.123040\n",
      "iteration 300 / 3000: loss 2.171139\n",
      "iteration 400 / 3000: loss 2.117026\n",
      "iteration 500 / 3000: loss 2.163452\n",
      "iteration 600 / 3000: loss 2.104205\n",
      "iteration 700 / 3000: loss 2.182088\n",
      "iteration 800 / 3000: loss 2.154224\n",
      "iteration 900 / 3000: loss 2.104908\n",
      "iteration 1000 / 3000: loss 2.104575\n",
      "iteration 1100 / 3000: loss 2.086946\n",
      "iteration 1200 / 3000: loss 2.156373\n",
      "iteration 1300 / 3000: loss 2.154451\n",
      "iteration 1400 / 3000: loss 2.102393\n",
      "iteration 1500 / 3000: loss 2.115673\n",
      "iteration 1600 / 3000: loss 2.126267\n",
      "iteration 1700 / 3000: loss 2.116007\n",
      "iteration 1800 / 3000: loss 2.110620\n",
      "iteration 1900 / 3000: loss 2.161514\n",
      "iteration 2000 / 3000: loss 2.161399\n",
      "iteration 2100 / 3000: loss 2.115143\n",
      "iteration 2200 / 3000: loss 2.143556\n",
      "iteration 2300 / 3000: loss 2.143708\n",
      "iteration 2400 / 3000: loss 2.139212\n",
      "iteration 2500 / 3000: loss 2.136150\n",
      "iteration 2600 / 3000: loss 2.187387\n",
      "iteration 2700 / 3000: loss 2.210599\n",
      "iteration 2800 / 3000: loss 2.210206\n",
      "iteration 2900 / 3000: loss 2.143215\n",
      "lr 1.000000e-07 reg 2.500000e+04 train accuracy: 0.328327 val accuracy: 0.345000\n",
      "lr 1.000000e-07 reg 5.000000e+04 train accuracy: 0.307531 val accuracy: 0.314000\n",
      "lr 5.000000e-07 reg 2.500000e+04 train accuracy: 0.331531 val accuracy: 0.343000\n",
      "lr 5.000000e-07 reg 5.000000e+04 train accuracy: 0.309796 val accuracy: 0.327000\n",
      "best validation accuracy achieved during cross-validation: 0.345000\n"
     ]
    }
   ],
   "source": [
    "# Use the validation set to tune hyperparameters (regularization strength and\n",
    "# learning rate). You should experiment with different ranges for the learning\n",
    "# rates and regularization strengths; if you are careful you should be able to\n",
    "# get a classification accuracy of over 0.35 on the validation set.\n",
    "from cs231n.classifiers import Softmax\n",
    "results = {}\n",
    "best_val = -1\n",
    "best_softmax = None\n",
    "learning_rates = [1e-7, 5e-7]\n",
    "regularization_strengths = [2.5e4, 5e4]\n",
    "\n",
    "################################################################################\n",
    "# TODO:                                                                        #\n",
    "# Use the validation set to set the learning rate and regularization strength. #\n",
    "# This should be identical to the validation that you did for the SVM; save    #\n",
    "# the best trained softmax classifer in best_softmax.                          #\n",
    "################################################################################\n",
    "for lr in learning_rates:\n",
    "    for rs in regularization_strengths:\n",
    "        softmax = Softmax()\n",
    "        loss = softmax.train(X_train, y_train, learning_rate=lr, reg=rs,\n",
    "                      num_iters=1500, verbose=True)\n",
    "        y_train_pred = softmax.predict(X_train)\n",
    "        tmp_train = np.mean(y_train == y_train_pred)\n",
    "        y_val_pred = softmax.predict(X_val)\n",
    "        tmp_val = np.mean(y_val == y_val_pred)\n",
    "        results[(lr,rs)] = (tmp_train,tmp_val)\n",
    "        if tmp_val > best_val:\n",
    "            best_val = tmp_val\n",
    "            best_softmax = softmax\n",
    "################################################################################\n",
    "#                              END OF YOUR CODE                                #\n",
    "################################################################################\n",
    "    \n",
    "# Print out results.\n",
    "for lr, reg in sorted(results):\n",
    "    train_accuracy, val_accuracy = results[(lr, reg)]\n",
    "    print('lr %e reg %e train accuracy: %f val accuracy: %f' % (\n",
    "                lr, reg, train_accuracy, val_accuracy))\n",
    "    \n",
    "print('best validation accuracy achieved during cross-validation: %f' % best_val)"
   ]
  },
  {
   "cell_type": "code",
   "execution_count": 35,
   "metadata": {},
   "outputs": [
    {
     "name": "stdout",
     "output_type": "stream",
     "text": [
      "softmax on raw pixels final test set accuracy: 0.341000\n"
     ]
    }
   ],
   "source": [
    "# evaluate on test set\n",
    "# Evaluate the best softmax on test set\n",
    "y_test_pred = best_softmax.predict(X_test)\n",
    "test_accuracy = np.mean(y_test == y_test_pred)\n",
    "print('softmax on raw pixels final test set accuracy: %f' % (test_accuracy, ))"
   ]
  },
  {
   "cell_type": "code",
   "execution_count": 36,
   "metadata": {},
   "outputs": [
    {
     "data": {
      "image/png": "[encoded data removed]",
      "text/plain": [
       "<matplotlib.figure.Figure at 0x7fe940a2a310>"
      ]
     },
     "metadata": {},
     "output_type": "display_data"
    }
   ],
   "source": [
    "# Visualize the learned weights for each class\n",
    "w = best_softmax.W[:-1,:] # strip out the bias\n",
    "w = w.reshape(32, 32, 3, 10)\n",
    "\n",
    "w_min, w_max = np.min(w), np.max(w)\n",
    "\n",
    "classes = ['plane', 'car', 'bird', 'cat', 'deer', 'dog', 'frog', 'horse', 'ship', 'truck']\n",
    "for i in range(10):\n",
    "    plt.subplot(2, 5, i + 1)\n",
    "    \n",
    "    # Rescale the weights to be between 0 and 255\n",
    "    wimg = 255.0 * (w[:, :, :, i].squeeze() - w_min) / (w_max - w_min)\n",
    "    plt.imshow(wimg.astype('uint8'))\n",
    "    plt.axis('off')\n",
    "    plt.title(classes[i])"
   ]
  },
  {
   "cell_type": "code",
   "execution_count": null,
   "metadata": {
    "collapsed": true
   },
   "outputs": [],
   "source": []
  }
 ],
 "metadata": {
  "kernelspec": {
   "display_name": "Python 2",
   "language": "python",
   "name": "python2"
  },
  "language_info": {
   "codemirror_mode": {
    "name": "ipython",
    "version": 2
   },
   "file_extension": ".py",
   "mimetype": "text/x-python",
   "name": "python",
   "nbconvert_exporter": "python",
   "pygments_lexer": "ipython2",
   "version": "2.7.13"
  }
 },
 "nbformat": 4,
 "nbformat_minor": 1
}
